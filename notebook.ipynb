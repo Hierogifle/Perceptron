{
 "cells": [
  {
   "cell_type": "markdown",
   "id": "e8f4b794",
   "metadata": {},
   "source": [
    "# Introduction au projet Building Perceptron\n",
    "\n",
    "Ce projet s'inscrit dans le cadre d'une formation en Intelligence Artificielle et Data Science à La Plateforme_. Il vise à comprendre et mettre en œuvre le Perceptron, modèle fondamental en apprentissage automatique inventé par Frank Rosenblatt, qui constitue la base historique et conceptuelle des réseaux de neurones.\n",
    "\n",
    "L’objectif principal est double : d’abord, développer une implémentation en Python du Perceptron à travers une approche orientée objet ; ensuite, appliquer ce modèle à un cas réel en utilisant le dataset Breast Cancer Wisconsin pour la classification binaire (diagnostic du cancer du sein, tumeur bénigne ou maligne).\n",
    "\n",
    "Le projet se déroule en plusieurs phases intégrant une analyse exploratoire approfondie du dataset, une réduction de dimensionnalité pour optimiser les performances, puis l’entraînement et l’évaluation du Perceptron à l’aide de métriques adaptées au contexte médical.\n",
    "\n",
    "Cette expérience permet à la fois d’acquérir des compétences pratiques en programmation et modélisation, mais aussi de consolider la compréhension des fondamentaux théoriques du Machine Learning."
   ]
  },
  {
   "cell_type": "code",
   "execution_count": null,
   "id": "a3cec110",
   "metadata": {},
   "outputs": [],
   "source": [
    "### Chargement des bibliothèques ###\n",
    "import os\n",
    "import pandas as pd\n",
    "import numpy as np\n",
    "import matplotlib.pyplot as plt\n",
    "import seaborn as sns\n",
    "from pathlib import Path\n",
    "\n",
    "# Définir le chemin du fichier\n",
    "file_path = Path(\"Data\") / \"bcw_data.csv\"  # équivaut à \"data/data.csv\"\n",
    "\n",
    "\n"
   ]
  },
  {
   "cell_type": "code",
   "execution_count": null,
   "id": "97a78021",
   "metadata": {},
   "outputs": [
    {
     "name": "stdout",
     "output_type": "stream",
     "text": [
      "<class 'pandas.core.frame.DataFrame'>\n",
      "RangeIndex: 569 entries, 0 to 568\n",
      "Data columns (total 33 columns):\n",
      " #   Column                   Non-Null Count  Dtype  \n",
      "---  ------                   --------------  -----  \n",
      " 0   id                       569 non-null    int64  \n",
      " 1   diagnosis                569 non-null    object \n",
      " 2   radius_mean              569 non-null    float64\n",
      " 3   texture_mean             569 non-null    float64\n",
      " 4   perimeter_mean           569 non-null    float64\n",
      " 5   area_mean                569 non-null    float64\n",
      " 6   smoothness_mean          569 non-null    float64\n",
      " 7   compactness_mean         569 non-null    float64\n",
      " 8   concavity_mean           569 non-null    float64\n",
      " 9   concave points_mean      569 non-null    float64\n",
      " 10  symmetry_mean            569 non-null    float64\n",
      " 11  fractal_dimension_mean   569 non-null    float64\n",
      " 12  radius_se                569 non-null    float64\n",
      " 13  texture_se               569 non-null    float64\n",
      " 14  perimeter_se             569 non-null    float64\n",
      " 15  area_se                  569 non-null    float64\n",
      " 16  smoothness_se            569 non-null    float64\n",
      " 17  compactness_se           569 non-null    float64\n",
      " 18  concavity_se             569 non-null    float64\n",
      " 19  concave points_se        569 non-null    float64\n",
      " 20  symmetry_se              569 non-null    float64\n",
      " 21  fractal_dimension_se     569 non-null    float64\n",
      " 22  radius_worst             569 non-null    float64\n",
      " 23  texture_worst            569 non-null    float64\n",
      " 24  perimeter_worst          569 non-null    float64\n",
      " 25  area_worst               569 non-null    float64\n",
      " 26  smoothness_worst         569 non-null    float64\n",
      " 27  compactness_worst        569 non-null    float64\n",
      " 28  concavity_worst          569 non-null    float64\n",
      " 29  concave points_worst     569 non-null    float64\n",
      " 30  symmetry_worst           569 non-null    float64\n",
      " 31  fractal_dimension_worst  569 non-null    float64\n",
      " 32  Unnamed: 32              0 non-null      float64\n",
      "dtypes: float64(31), int64(1), object(1)\n",
      "memory usage: 146.8+ KB\n"
     ]
    },
    {
     "data": {
      "application/vnd.microsoft.datawrangler.viewer.v0+json": {
       "columns": [
        {
         "name": "index",
         "rawType": "object",
         "type": "string"
        },
        {
         "name": "0",
         "rawType": "int64",
         "type": "integer"
        }
       ],
       "ref": "44ef1cba-7df0-4eb5-a14d-c181b0ce86e9",
       "rows": [
        [
         "id",
         "0"
        ],
        [
         "diagnosis",
         "0"
        ],
        [
         "radius_mean",
         "0"
        ],
        [
         "texture_mean",
         "0"
        ],
        [
         "perimeter_mean",
         "0"
        ],
        [
         "area_mean",
         "0"
        ],
        [
         "smoothness_mean",
         "0"
        ],
        [
         "compactness_mean",
         "0"
        ],
        [
         "concavity_mean",
         "0"
        ],
        [
         "concave points_mean",
         "0"
        ],
        [
         "symmetry_mean",
         "0"
        ],
        [
         "fractal_dimension_mean",
         "0"
        ],
        [
         "radius_se",
         "0"
        ],
        [
         "texture_se",
         "0"
        ],
        [
         "perimeter_se",
         "0"
        ],
        [
         "area_se",
         "0"
        ],
        [
         "smoothness_se",
         "0"
        ],
        [
         "compactness_se",
         "0"
        ],
        [
         "concavity_se",
         "0"
        ],
        [
         "concave points_se",
         "0"
        ],
        [
         "symmetry_se",
         "0"
        ],
        [
         "fractal_dimension_se",
         "0"
        ],
        [
         "radius_worst",
         "0"
        ],
        [
         "texture_worst",
         "0"
        ],
        [
         "perimeter_worst",
         "0"
        ],
        [
         "area_worst",
         "0"
        ],
        [
         "smoothness_worst",
         "0"
        ],
        [
         "compactness_worst",
         "0"
        ],
        [
         "concavity_worst",
         "0"
        ],
        [
         "concave points_worst",
         "0"
        ],
        [
         "symmetry_worst",
         "0"
        ],
        [
         "fractal_dimension_worst",
         "0"
        ],
        [
         "Unnamed: 32",
         "569"
        ]
       ],
       "shape": {
        "columns": 1,
        "rows": 33
       }
      },
      "text/plain": [
       "id                           0\n",
       "diagnosis                    0\n",
       "radius_mean                  0\n",
       "texture_mean                 0\n",
       "perimeter_mean               0\n",
       "area_mean                    0\n",
       "smoothness_mean              0\n",
       "compactness_mean             0\n",
       "concavity_mean               0\n",
       "concave points_mean          0\n",
       "symmetry_mean                0\n",
       "fractal_dimension_mean       0\n",
       "radius_se                    0\n",
       "texture_se                   0\n",
       "perimeter_se                 0\n",
       "area_se                      0\n",
       "smoothness_se                0\n",
       "compactness_se               0\n",
       "concavity_se                 0\n",
       "concave points_se            0\n",
       "symmetry_se                  0\n",
       "fractal_dimension_se         0\n",
       "radius_worst                 0\n",
       "texture_worst                0\n",
       "perimeter_worst              0\n",
       "area_worst                   0\n",
       "smoothness_worst             0\n",
       "compactness_worst            0\n",
       "concavity_worst              0\n",
       "concave points_worst         0\n",
       "symmetry_worst               0\n",
       "fractal_dimension_worst      0\n",
       "Unnamed: 32                569\n",
       "dtype: int64"
      ]
     },
     "execution_count": 11,
     "metadata": {},
     "output_type": "execute_result"
    }
   ],
   "source": [
    "### Chargement des données ###\n",
    "data = pd.read_csv(file_path) # Charger les données dans un DataFrame pandas\n",
    "\n",
    "### Exploration des données ###\n",
    "data.info() # Informations sur le DataFrame\n",
    "data.describe() # Statistiques descriptives\n",
    "data.isnull().sum()  # Vérifier les valeurs manquantes\n"
   ]
  },
  {
   "cell_type": "markdown",
   "id": "fab9d6cc",
   "metadata": {},
   "source": [
    " # Analyse du dataset \n",
    " Il comprent 0 valeurs manquantes et 0 doublons"
   ]
  }
 ],
 "metadata": {
  "kernelspec": {
   "display_name": ".env",
   "language": "python",
   "name": "python3"
  },
  "language_info": {
   "codemirror_mode": {
    "name": "ipython",
    "version": 3
   },
   "file_extension": ".py",
   "mimetype": "text/x-python",
   "name": "python",
   "nbconvert_exporter": "python",
   "pygments_lexer": "ipython3",
   "version": "3.13.7"
  }
 },
 "nbformat": 4,
 "nbformat_minor": 5
}
